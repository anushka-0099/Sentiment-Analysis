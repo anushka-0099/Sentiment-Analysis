{
 "cells": [
  {
   "cell_type": "code",
   "execution_count": 1,
   "id": "372016d5-f9ba-4175-b064-08fd0aad61e8",
   "metadata": {
    "collapsed": true,
    "jupyter": {
     "outputs_hidden": true
    }
   },
   "outputs": [
    {
     "name": "stdout",
     "output_type": "stream",
     "text": [
      "Collecting praw\n",
      "  Downloading praw-7.8.1-py3-none-any.whl.metadata (9.4 kB)\n",
      "Collecting prawcore<3,>=2.4 (from praw)\n",
      "  Downloading prawcore-2.4.0-py3-none-any.whl.metadata (5.0 kB)\n",
      "Collecting update_checker>=0.18 (from praw)\n",
      "  Downloading update_checker-0.18.0-py3-none-any.whl.metadata (2.3 kB)\n",
      "Requirement already satisfied: websocket-client>=0.54.0 in c:\\users\\anushka\\lib\\site-packages (from praw) (1.6.4)\n",
      "Requirement already satisfied: requests<3.0,>=2.6.0 in c:\\users\\anushka\\lib\\site-packages (from prawcore<3,>=2.4->praw) (2.31.0)\n",
      "Requirement already satisfied: charset-normalizer<4,>=2 in c:\\users\\anushka\\lib\\site-packages (from requests<3.0,>=2.6.0->prawcore<3,>=2.4->praw) (3.3.2)\n",
      "Requirement already satisfied: idna<4,>=2.5 in c:\\users\\anushka\\lib\\site-packages (from requests<3.0,>=2.6.0->prawcore<3,>=2.4->praw) (3.4)\n",
      "Requirement already satisfied: urllib3<3,>=1.21.1 in c:\\users\\anushka\\lib\\site-packages (from requests<3.0,>=2.6.0->prawcore<3,>=2.4->praw) (2.0.7)\n",
      "Requirement already satisfied: certifi>=2017.4.17 in c:\\users\\anushka\\lib\\site-packages (from requests<3.0,>=2.6.0->prawcore<3,>=2.4->praw) (2023.7.22)\n",
      "Downloading praw-7.8.1-py3-none-any.whl (189 kB)\n",
      "   ---------------------------------------- 0.0/189.3 kB ? eta -:--:--\n",
      "   ------ -------------------------------- 30.7/189.3 kB 660.6 kB/s eta 0:00:01\n",
      "   -------- ------------------------------ 41.0/189.3 kB 393.8 kB/s eta 0:00:01\n",
      "   ------------------ -------------------- 92.2/189.3 kB 871.5 kB/s eta 0:00:01\n",
      "   ---------------------------------- --- 174.1/189.3 kB 952.6 kB/s eta 0:00:01\n",
      "   -------------------------------------- 189.3/189.3 kB 882.3 kB/s eta 0:00:00\n",
      "Downloading prawcore-2.4.0-py3-none-any.whl (17 kB)\n",
      "Downloading update_checker-0.18.0-py3-none-any.whl (7.0 kB)\n",
      "Installing collected packages: update_checker, prawcore, praw\n",
      "Successfully installed praw-7.8.1 prawcore-2.4.0 update_checker-0.18.0\n"
     ]
    },
    {
     "name": "stderr",
     "output_type": "stream",
     "text": [
      "DEPRECATION: Loading egg at c:\\users\\anushka\\lib\\site-packages\\vboxapi-1.0-py3.12.egg is deprecated. pip 24.3 will enforce this behaviour change. A possible replacement is to use pip for package installation.. Discussion can be found at https://github.com/pypa/pip/issues/12330\n",
      "\n",
      "[notice] A new release of pip is available: 23.3.1 -> 24.3.1\n",
      "[notice] To update, run: python.exe -m pip install --upgrade pip\n"
     ]
    }
   ],
   "source": [
    "!pip install praw"
   ]
  },
  {
   "cell_type": "code",
   "execution_count": 51,
   "id": "431f09de-b346-422c-83cb-8323f6d3cfef",
   "metadata": {},
   "outputs": [],
   "source": [
    "import praw"
   ]
  },
  {
   "cell_type": "code",
   "execution_count": 5,
   "id": "71318787-611f-4b4a-b9ad-da62230f5101",
   "metadata": {},
   "outputs": [],
   "source": [
    "reddit=praw.Reddit(client_id='D8cejNSLBb0EtW5zWoe_NA',client_secret='M0J6_E56kq-ndtniMqc3nW6CJNsSRg',user_agent='user')"
   ]
  },
  {
   "cell_type": "code",
   "execution_count": 7,
   "id": "97cbb7c9-aa32-436a-9346-b6e25026e23a",
   "metadata": {},
   "outputs": [
    {
     "name": "stdout",
     "output_type": "stream",
     "text": [
      "Rate My Portfolio - r/StockMarket Quarterly Thread October 2024\n",
      "Daily General Discussion and Advice Thread - December 04, 2024\n",
      "I know it’s not much, but I took my first step into investing!\n",
      "These are the stocks on my watchlist (12/4)\n",
      "A short critique of Ray Dalio\n",
      "Let’s Talk Strategies, Lessons, and Staying in the Game\n",
      "My Apple stock hit $100k\n",
      "I Want to Hear Your Thoughts on the Qualities Intel’s Next CEO Should Have and Why\n",
      "Devon Energy - checking if I am missing anything\n",
      "Tesla loses bid to restore Elon Musk's $56bn pay package\n"
     ]
    }
   ],
   "source": [
    "subs=reddit.subreddit('stockmarket').hot(limit=10)\n",
    "for iter in subs:\n",
    "    print(iter.title)"
   ]
  },
  {
   "cell_type": "code",
   "execution_count": 8,
   "id": "50998f64-6600-4ec0-b384-bdb24c6cc398",
   "metadata": {},
   "outputs": [],
   "source": [
    "import pandas as pd"
   ]
  },
  {
   "cell_type": "code",
   "execution_count": 9,
   "id": "643497d0-d118-4153-b393-13ee245c8aad",
   "metadata": {},
   "outputs": [],
   "source": [
    "import nltk"
   ]
  },
  {
   "cell_type": "code",
   "execution_count": 10,
   "id": "1f0913da-33f6-4be5-9600-e0fa3565849b",
   "metadata": {},
   "outputs": [],
   "source": [
    "sub_reddits=['stockmarket','investing','finance']\n",
    "store_posts=[]\n",
    "for sr in sub_reddits:\n",
    "    sr_obj=reddit.subreddit(sr)\n",
    "    for post in sr_obj.hot(limit=200):\n",
    "        store_posts.append({\n",
    "            'title': post.title,\n",
    "            'body': post.selftext,\n",
    "            'upvotes': post.score,\n",
    "            'comments': post.num_comments,\n",
    "            'created_at': post.created_utc\n",
    "        })"
   ]
  },
  {
   "cell_type": "code",
   "execution_count": 11,
   "id": "d0c9a17a-32d4-434d-87bd-04f4f1e4a523",
   "metadata": {},
   "outputs": [],
   "source": [
    "df=pd.DataFrame(store_posts)"
   ]
  },
  {
   "cell_type": "code",
   "execution_count": 12,
   "id": "10ef859e-25ed-4c4d-82a3-254d2f93fb96",
   "metadata": {},
   "outputs": [
    {
     "data": {
      "text/html": [
       "<div>\n",
       "<style scoped>\n",
       "    .dataframe tbody tr th:only-of-type {\n",
       "        vertical-align: middle;\n",
       "    }\n",
       "\n",
       "    .dataframe tbody tr th {\n",
       "        vertical-align: top;\n",
       "    }\n",
       "\n",
       "    .dataframe thead th {\n",
       "        text-align: right;\n",
       "    }\n",
       "</style>\n",
       "<table border=\"1\" class=\"dataframe\">\n",
       "  <thead>\n",
       "    <tr style=\"text-align: right;\">\n",
       "      <th></th>\n",
       "      <th>title</th>\n",
       "      <th>body</th>\n",
       "      <th>upvotes</th>\n",
       "      <th>comments</th>\n",
       "      <th>created_at</th>\n",
       "    </tr>\n",
       "  </thead>\n",
       "  <tbody>\n",
       "    <tr>\n",
       "      <th>0</th>\n",
       "      <td>Rate My Portfolio - r/StockMarket Quarterly Th...</td>\n",
       "      <td>Please use this thread to discuss your portfol...</td>\n",
       "      <td>3</td>\n",
       "      <td>49</td>\n",
       "      <td>1.727773e+09</td>\n",
       "    </tr>\n",
       "    <tr>\n",
       "      <th>1</th>\n",
       "      <td>Daily General Discussion and Advice Thread - D...</td>\n",
       "      <td>Have a general question?  Want to offer some c...</td>\n",
       "      <td>4</td>\n",
       "      <td>7</td>\n",
       "      <td>1.733306e+09</td>\n",
       "    </tr>\n",
       "    <tr>\n",
       "      <th>2</th>\n",
       "      <td>I know it’s not much, but I took my first step...</td>\n",
       "      <td>Any tips? I’m not trying to put too much in un...</td>\n",
       "      <td>278</td>\n",
       "      <td>29</td>\n",
       "      <td>1.733336e+09</td>\n",
       "    </tr>\n",
       "    <tr>\n",
       "      <th>3</th>\n",
       "      <td>These are the stocks on my watchlist (12/4)</td>\n",
       "      <td>\\n\\nHi! I am an ex-prop shop equity trader.\\n\\...</td>\n",
       "      <td>17</td>\n",
       "      <td>0</td>\n",
       "      <td>1.733322e+09</td>\n",
       "    </tr>\n",
       "    <tr>\n",
       "      <th>4</th>\n",
       "      <td>A short critique of Ray Dalio</td>\n",
       "      <td>Ray Dalio has done an absolutely amazing job w...</td>\n",
       "      <td>13</td>\n",
       "      <td>6</td>\n",
       "      <td>1.733321e+09</td>\n",
       "    </tr>\n",
       "  </tbody>\n",
       "</table>\n",
       "</div>"
      ],
      "text/plain": [
       "                                               title  \\\n",
       "0  Rate My Portfolio - r/StockMarket Quarterly Th...   \n",
       "1  Daily General Discussion and Advice Thread - D...   \n",
       "2  I know it’s not much, but I took my first step...   \n",
       "3        These are the stocks on my watchlist (12/4)   \n",
       "4                      A short critique of Ray Dalio   \n",
       "\n",
       "                                                body  upvotes  comments  \\\n",
       "0  Please use this thread to discuss your portfol...        3        49   \n",
       "1  Have a general question?  Want to offer some c...        4         7   \n",
       "2  Any tips? I’m not trying to put too much in un...      278        29   \n",
       "3  \\n\\nHi! I am an ex-prop shop equity trader.\\n\\...       17         0   \n",
       "4  Ray Dalio has done an absolutely amazing job w...       13         6   \n",
       "\n",
       "     created_at  \n",
       "0  1.727773e+09  \n",
       "1  1.733306e+09  \n",
       "2  1.733336e+09  \n",
       "3  1.733322e+09  \n",
       "4  1.733321e+09  "
      ]
     },
     "execution_count": 12,
     "metadata": {},
     "output_type": "execute_result"
    }
   ],
   "source": [
    "df.head()"
   ]
  },
  {
   "cell_type": "code",
   "execution_count": 16,
   "id": "a5b6f026-889d-4cbf-ad44-e0d836b26c90",
   "metadata": {},
   "outputs": [
    {
     "name": "stderr",
     "output_type": "stream",
     "text": [
      "[nltk_data] Downloading package punkt to\n",
      "[nltk_data]     C:\\Users\\Anushka\\AppData\\Roaming\\nltk_data...\n",
      "[nltk_data]   Package punkt is already up-to-date!\n",
      "[nltk_data] Downloading package stopwords to\n",
      "[nltk_data]     C:\\Users\\Anushka\\AppData\\Roaming\\nltk_data...\n",
      "[nltk_data]   Package stopwords is already up-to-date!\n"
     ]
    },
    {
     "name": "stdout",
     "output_type": "stream",
     "text": [
      "Data cleaned and saved to 'reddit_stock_data_cleaned.csv'.\n"
     ]
    }
   ],
   "source": [
    "import re\n",
    "from nltk.corpus import stopwords\n",
    "from nltk.tokenize import word_tokenize\n",
    "import nltk\n",
    "df=pd.read_csv('reddit_stocks_preproccess.csv')\n",
    "nltk.download('punkt')\n",
    "nltk.download('stopwords')\n",
    "stop_words = set(stopwords.words('english'))\n",
    "\n",
    "def preprocess_text(text):\n",
    "    text = re.sub(r'http\\S+', '', text)\n",
    "    text = re.sub(r'[^a-zA-Z\\s]', '', text)\n",
    "    tokens = word_tokenize(text.lower())\n",
    "    tokens = [word for word in tokens if word not in stop_words]\n",
    "    return ' '.join(tokens)\n",
    "\n",
    "df['cleaned_title'] = df['title'].apply(preprocess_text)\n",
    "df['cleaned_body'] = df['body'].fillna('').apply(preprocess_text)\n",
    "\n",
    "df.to_csv('reddit_stock_data_cleaned.csv', index=False)\n",
    "print(\"Data cleaned and saved to 'reddit_stock_data_cleaned.csv'.\")\n"
   ]
  },
  {
   "cell_type": "code",
   "execution_count": 33,
   "id": "0f54aaa1-a4c4-4ca9-bcc1-718d4bbc69fa",
   "metadata": {},
   "outputs": [],
   "source": [
    "data=pd.read_csv('reddit_stock_data_cleaned.csv')"
   ]
  },
  {
   "cell_type": "code",
   "execution_count": 34,
   "id": "a47b7c17-d7fa-4374-804d-aeaf8cdf5480",
   "metadata": {},
   "outputs": [
    {
     "data": {
      "text/html": [
       "<div>\n",
       "<style scoped>\n",
       "    .dataframe tbody tr th:only-of-type {\n",
       "        vertical-align: middle;\n",
       "    }\n",
       "\n",
       "    .dataframe tbody tr th {\n",
       "        vertical-align: top;\n",
       "    }\n",
       "\n",
       "    .dataframe thead th {\n",
       "        text-align: right;\n",
       "    }\n",
       "</style>\n",
       "<table border=\"1\" class=\"dataframe\">\n",
       "  <thead>\n",
       "    <tr style=\"text-align: right;\">\n",
       "      <th></th>\n",
       "      <th>title</th>\n",
       "      <th>body</th>\n",
       "      <th>upvotes</th>\n",
       "      <th>comments</th>\n",
       "      <th>created_at</th>\n",
       "      <th>rev_title</th>\n",
       "      <th>rev_body</th>\n",
       "      <th>cleaned_title</th>\n",
       "      <th>cleaned_body</th>\n",
       "    </tr>\n",
       "  </thead>\n",
       "  <tbody>\n",
       "    <tr>\n",
       "      <th>0</th>\n",
       "      <td>Rate My Portfolio - r/StockMarket Quarterly Th...</td>\n",
       "      <td>Please use this thread to discuss your portfol...</td>\n",
       "      <td>3</td>\n",
       "      <td>49</td>\n",
       "      <td>1.727773e+09</td>\n",
       "      <td>rate portfolio rstockmarket quarterly thread o...</td>\n",
       "      <td>please use thread discuss portfolio learn stoc...</td>\n",
       "      <td>rate portfolio rstockmarket quarterly thread o...</td>\n",
       "      <td>please use thread discuss portfolio learn stoc...</td>\n",
       "    </tr>\n",
       "    <tr>\n",
       "      <th>1</th>\n",
       "      <td>Daily General Discussion and Advice Thread - D...</td>\n",
       "      <td>Have a general question?  Want to offer some c...</td>\n",
       "      <td>4</td>\n",
       "      <td>7</td>\n",
       "      <td>1.733306e+09</td>\n",
       "      <td>daily general discussion advice thread december</td>\n",
       "      <td>general question want offer commentary markets...</td>\n",
       "      <td>daily general discussion advice thread december</td>\n",
       "      <td>general question want offer commentary markets...</td>\n",
       "    </tr>\n",
       "    <tr>\n",
       "      <th>2</th>\n",
       "      <td>I know it’s not much, but I took my first step...</td>\n",
       "      <td>Any tips? I’m not trying to put too much in un...</td>\n",
       "      <td>278</td>\n",
       "      <td>29</td>\n",
       "      <td>1.733336e+09</td>\n",
       "      <td>know much took first step investing</td>\n",
       "      <td>tips im trying put much become educated hysa k...</td>\n",
       "      <td>know much took first step investing</td>\n",
       "      <td>tips im trying put much become educated hysa k...</td>\n",
       "    </tr>\n",
       "    <tr>\n",
       "      <th>3</th>\n",
       "      <td>These are the stocks on my watchlist (12/4)</td>\n",
       "      <td>\\n\\nHi! I am an ex-prop shop equity trader.\\n\\...</td>\n",
       "      <td>17</td>\n",
       "      <td>0</td>\n",
       "      <td>1.733322e+09</td>\n",
       "      <td>stocks watchlist</td>\n",
       "      <td>hi exprop shop equity trader daily watchlist t...</td>\n",
       "      <td>stocks watchlist</td>\n",
       "      <td>hi exprop shop equity trader daily watchlist t...</td>\n",
       "    </tr>\n",
       "    <tr>\n",
       "      <th>4</th>\n",
       "      <td>A short critique of Ray Dalio</td>\n",
       "      <td>Ray Dalio has done an absolutely amazing job w...</td>\n",
       "      <td>13</td>\n",
       "      <td>6</td>\n",
       "      <td>1.733321e+09</td>\n",
       "      <td>short critique ray dalio</td>\n",
       "      <td>ray dalio done absolutely amazing job bridgewa...</td>\n",
       "      <td>short critique ray dalio</td>\n",
       "      <td>ray dalio done absolutely amazing job bridgewa...</td>\n",
       "    </tr>\n",
       "    <tr>\n",
       "      <th>...</th>\n",
       "      <td>...</td>\n",
       "      <td>...</td>\n",
       "      <td>...</td>\n",
       "      <td>...</td>\n",
       "      <td>...</td>\n",
       "      <td>...</td>\n",
       "      <td>...</td>\n",
       "      <td>...</td>\n",
       "      <td>...</td>\n",
       "    </tr>\n",
       "    <tr>\n",
       "      <th>460</th>\n",
       "      <td>What Economic Dangers Is the Bond Market Prici...</td>\n",
       "      <td>NaN</td>\n",
       "      <td>0</td>\n",
       "      <td>1</td>\n",
       "      <td>1.723205e+09</td>\n",
       "      <td>economic dangers bond market pricing wsj</td>\n",
       "      <td>NaN</td>\n",
       "      <td>economic dangers bond market pricing wsj</td>\n",
       "      <td>NaN</td>\n",
       "    </tr>\n",
       "    <tr>\n",
       "      <th>461</th>\n",
       "      <td>Brookfield’s trillion — Firm appears to be the...</td>\n",
       "      <td>NaN</td>\n",
       "      <td>28</td>\n",
       "      <td>4</td>\n",
       "      <td>1.723119e+09</td>\n",
       "      <td>brookfields trillion firm appears latest broac...</td>\n",
       "      <td>NaN</td>\n",
       "      <td>brookfields trillion firm appears latest broac...</td>\n",
       "      <td>NaN</td>\n",
       "    </tr>\n",
       "    <tr>\n",
       "      <th>462</th>\n",
       "      <td>Adam Tooze: Yen carry trades and the turmoil i...</td>\n",
       "      <td>NaN</td>\n",
       "      <td>35</td>\n",
       "      <td>1</td>\n",
       "      <td>1.722949e+09</td>\n",
       "      <td>adam tooze yen carry trades turmoil global fx ...</td>\n",
       "      <td>NaN</td>\n",
       "      <td>adam tooze yen carry trades turmoil global fx ...</td>\n",
       "      <td>NaN</td>\n",
       "    </tr>\n",
       "    <tr>\n",
       "      <th>463</th>\n",
       "      <td>Mapping the price of inflation with a Big Mac.</td>\n",
       "      <td>NaN</td>\n",
       "      <td>184</td>\n",
       "      <td>14</td>\n",
       "      <td>1.722819e+09</td>\n",
       "      <td>mapping price inflation big mac</td>\n",
       "      <td>NaN</td>\n",
       "      <td>mapping price inflation big mac</td>\n",
       "      <td>NaN</td>\n",
       "    </tr>\n",
       "    <tr>\n",
       "      <th>464</th>\n",
       "      <td>Moronic Monday - August 05, 2024 - Your Weekly...</td>\n",
       "      <td>This is your safe place for questions on finan...</td>\n",
       "      <td>1</td>\n",
       "      <td>42</td>\n",
       "      <td>1.722834e+09</td>\n",
       "      <td>moronic monday august weekly questions thread</td>\n",
       "      <td>safe place questions financial careers homewor...</td>\n",
       "      <td>moronic monday august weekly questions thread</td>\n",
       "      <td>safe place questions financial careers homewor...</td>\n",
       "    </tr>\n",
       "  </tbody>\n",
       "</table>\n",
       "<p>465 rows × 9 columns</p>\n",
       "</div>"
      ],
      "text/plain": [
       "                                                 title  \\\n",
       "0    Rate My Portfolio - r/StockMarket Quarterly Th...   \n",
       "1    Daily General Discussion and Advice Thread - D...   \n",
       "2    I know it’s not much, but I took my first step...   \n",
       "3          These are the stocks on my watchlist (12/4)   \n",
       "4                        A short critique of Ray Dalio   \n",
       "..                                                 ...   \n",
       "460  What Economic Dangers Is the Bond Market Prici...   \n",
       "461  Brookfield’s trillion — Firm appears to be the...   \n",
       "462  Adam Tooze: Yen carry trades and the turmoil i...   \n",
       "463     Mapping the price of inflation with a Big Mac.   \n",
       "464  Moronic Monday - August 05, 2024 - Your Weekly...   \n",
       "\n",
       "                                                  body  upvotes  comments  \\\n",
       "0    Please use this thread to discuss your portfol...        3        49   \n",
       "1    Have a general question?  Want to offer some c...        4         7   \n",
       "2    Any tips? I’m not trying to put too much in un...      278        29   \n",
       "3    \\n\\nHi! I am an ex-prop shop equity trader.\\n\\...       17         0   \n",
       "4    Ray Dalio has done an absolutely amazing job w...       13         6   \n",
       "..                                                 ...      ...       ...   \n",
       "460                                                NaN        0         1   \n",
       "461                                                NaN       28         4   \n",
       "462                                                NaN       35         1   \n",
       "463                                                NaN      184        14   \n",
       "464  This is your safe place for questions on finan...        1        42   \n",
       "\n",
       "       created_at                                          rev_title  \\\n",
       "0    1.727773e+09  rate portfolio rstockmarket quarterly thread o...   \n",
       "1    1.733306e+09    daily general discussion advice thread december   \n",
       "2    1.733336e+09                know much took first step investing   \n",
       "3    1.733322e+09                                   stocks watchlist   \n",
       "4    1.733321e+09                           short critique ray dalio   \n",
       "..            ...                                                ...   \n",
       "460  1.723205e+09           economic dangers bond market pricing wsj   \n",
       "461  1.723119e+09  brookfields trillion firm appears latest broac...   \n",
       "462  1.722949e+09  adam tooze yen carry trades turmoil global fx ...   \n",
       "463  1.722819e+09                    mapping price inflation big mac   \n",
       "464  1.722834e+09      moronic monday august weekly questions thread   \n",
       "\n",
       "                                              rev_body  \\\n",
       "0    please use thread discuss portfolio learn stoc...   \n",
       "1    general question want offer commentary markets...   \n",
       "2    tips im trying put much become educated hysa k...   \n",
       "3    hi exprop shop equity trader daily watchlist t...   \n",
       "4    ray dalio done absolutely amazing job bridgewa...   \n",
       "..                                                 ...   \n",
       "460                                                NaN   \n",
       "461                                                NaN   \n",
       "462                                                NaN   \n",
       "463                                                NaN   \n",
       "464  safe place questions financial careers homewor...   \n",
       "\n",
       "                                         cleaned_title  \\\n",
       "0    rate portfolio rstockmarket quarterly thread o...   \n",
       "1      daily general discussion advice thread december   \n",
       "2                  know much took first step investing   \n",
       "3                                     stocks watchlist   \n",
       "4                             short critique ray dalio   \n",
       "..                                                 ...   \n",
       "460           economic dangers bond market pricing wsj   \n",
       "461  brookfields trillion firm appears latest broac...   \n",
       "462  adam tooze yen carry trades turmoil global fx ...   \n",
       "463                    mapping price inflation big mac   \n",
       "464      moronic monday august weekly questions thread   \n",
       "\n",
       "                                          cleaned_body  \n",
       "0    please use thread discuss portfolio learn stoc...  \n",
       "1    general question want offer commentary markets...  \n",
       "2    tips im trying put much become educated hysa k...  \n",
       "3    hi exprop shop equity trader daily watchlist t...  \n",
       "4    ray dalio done absolutely amazing job bridgewa...  \n",
       "..                                                 ...  \n",
       "460                                                NaN  \n",
       "461                                                NaN  \n",
       "462                                                NaN  \n",
       "463                                                NaN  \n",
       "464  safe place questions financial careers homewor...  \n",
       "\n",
       "[465 rows x 9 columns]"
      ]
     },
     "execution_count": 34,
     "metadata": {},
     "output_type": "execute_result"
    }
   ],
   "source": [
    "data"
   ]
  },
  {
   "cell_type": "code",
   "execution_count": 35,
   "id": "898eb5d7-b562-463f-b8f1-66cc0e1211c3",
   "metadata": {},
   "outputs": [],
   "source": [
    "data['combined_text'] = data['cleaned_title'] + \" \" + data['cleaned_body']\n",
    "data = data[['combined_text', 'upvotes', 'comments']]"
   ]
  },
  {
   "cell_type": "code",
   "execution_count": 36,
   "id": "7845358e-b8ca-4341-913c-ae38ab165513",
   "metadata": {},
   "outputs": [
    {
     "data": {
      "text/html": [
       "<div>\n",
       "<style scoped>\n",
       "    .dataframe tbody tr th:only-of-type {\n",
       "        vertical-align: middle;\n",
       "    }\n",
       "\n",
       "    .dataframe tbody tr th {\n",
       "        vertical-align: top;\n",
       "    }\n",
       "\n",
       "    .dataframe thead th {\n",
       "        text-align: right;\n",
       "    }\n",
       "</style>\n",
       "<table border=\"1\" class=\"dataframe\">\n",
       "  <thead>\n",
       "    <tr style=\"text-align: right;\">\n",
       "      <th></th>\n",
       "      <th>combined_text</th>\n",
       "      <th>upvotes</th>\n",
       "      <th>comments</th>\n",
       "    </tr>\n",
       "  </thead>\n",
       "  <tbody>\n",
       "    <tr>\n",
       "      <th>0</th>\n",
       "      <td>rate portfolio rstockmarket quarterly thread o...</td>\n",
       "      <td>3</td>\n",
       "      <td>49</td>\n",
       "    </tr>\n",
       "    <tr>\n",
       "      <th>1</th>\n",
       "      <td>daily general discussion advice thread decembe...</td>\n",
       "      <td>4</td>\n",
       "      <td>7</td>\n",
       "    </tr>\n",
       "    <tr>\n",
       "      <th>2</th>\n",
       "      <td>know much took first step investing tips im tr...</td>\n",
       "      <td>278</td>\n",
       "      <td>29</td>\n",
       "    </tr>\n",
       "    <tr>\n",
       "      <th>3</th>\n",
       "      <td>stocks watchlist hi exprop shop equity trader ...</td>\n",
       "      <td>17</td>\n",
       "      <td>0</td>\n",
       "    </tr>\n",
       "    <tr>\n",
       "      <th>4</th>\n",
       "      <td>short critique ray dalio ray dalio done absolu...</td>\n",
       "      <td>13</td>\n",
       "      <td>6</td>\n",
       "    </tr>\n",
       "    <tr>\n",
       "      <th>...</th>\n",
       "      <td>...</td>\n",
       "      <td>...</td>\n",
       "      <td>...</td>\n",
       "    </tr>\n",
       "    <tr>\n",
       "      <th>460</th>\n",
       "      <td>NaN</td>\n",
       "      <td>0</td>\n",
       "      <td>1</td>\n",
       "    </tr>\n",
       "    <tr>\n",
       "      <th>461</th>\n",
       "      <td>NaN</td>\n",
       "      <td>28</td>\n",
       "      <td>4</td>\n",
       "    </tr>\n",
       "    <tr>\n",
       "      <th>462</th>\n",
       "      <td>NaN</td>\n",
       "      <td>35</td>\n",
       "      <td>1</td>\n",
       "    </tr>\n",
       "    <tr>\n",
       "      <th>463</th>\n",
       "      <td>NaN</td>\n",
       "      <td>184</td>\n",
       "      <td>14</td>\n",
       "    </tr>\n",
       "    <tr>\n",
       "      <th>464</th>\n",
       "      <td>moronic monday august weekly questions thread ...</td>\n",
       "      <td>1</td>\n",
       "      <td>42</td>\n",
       "    </tr>\n",
       "  </tbody>\n",
       "</table>\n",
       "<p>465 rows × 3 columns</p>\n",
       "</div>"
      ],
      "text/plain": [
       "                                         combined_text  upvotes  comments\n",
       "0    rate portfolio rstockmarket quarterly thread o...        3        49\n",
       "1    daily general discussion advice thread decembe...        4         7\n",
       "2    know much took first step investing tips im tr...      278        29\n",
       "3    stocks watchlist hi exprop shop equity trader ...       17         0\n",
       "4    short critique ray dalio ray dalio done absolu...       13         6\n",
       "..                                                 ...      ...       ...\n",
       "460                                                NaN        0         1\n",
       "461                                                NaN       28         4\n",
       "462                                                NaN       35         1\n",
       "463                                                NaN      184        14\n",
       "464  moronic monday august weekly questions thread ...        1        42\n",
       "\n",
       "[465 rows x 3 columns]"
      ]
     },
     "execution_count": 36,
     "metadata": {},
     "output_type": "execute_result"
    }
   ],
   "source": [
    "data"
   ]
  },
  {
   "cell_type": "code",
   "execution_count": 37,
   "id": "04a892f8-f31a-4cc6-80ac-d6ea80b3d006",
   "metadata": {},
   "outputs": [
    {
     "data": {
      "text/plain": [
       "combined_text    78\n",
       "upvotes           0\n",
       "comments          0\n",
       "dtype: int64"
      ]
     },
     "execution_count": 37,
     "metadata": {},
     "output_type": "execute_result"
    }
   ],
   "source": [
    "data.isnull().sum()"
   ]
  },
  {
   "cell_type": "code",
   "execution_count": 38,
   "id": "42b24159-090b-4b9c-9255-a18cabc37164",
   "metadata": {},
   "outputs": [],
   "source": [
    "data_new = data.dropna(axis=0)"
   ]
  },
  {
   "cell_type": "code",
   "execution_count": 39,
   "id": "39db17da-1b67-4ee8-8119-a7e6a8a2ade8",
   "metadata": {},
   "outputs": [
    {
     "data": {
      "text/html": [
       "<div>\n",
       "<style scoped>\n",
       "    .dataframe tbody tr th:only-of-type {\n",
       "        vertical-align: middle;\n",
       "    }\n",
       "\n",
       "    .dataframe tbody tr th {\n",
       "        vertical-align: top;\n",
       "    }\n",
       "\n",
       "    .dataframe thead th {\n",
       "        text-align: right;\n",
       "    }\n",
       "</style>\n",
       "<table border=\"1\" class=\"dataframe\">\n",
       "  <thead>\n",
       "    <tr style=\"text-align: right;\">\n",
       "      <th></th>\n",
       "      <th>combined_text</th>\n",
       "      <th>upvotes</th>\n",
       "      <th>comments</th>\n",
       "    </tr>\n",
       "  </thead>\n",
       "  <tbody>\n",
       "    <tr>\n",
       "      <th>0</th>\n",
       "      <td>rate portfolio rstockmarket quarterly thread o...</td>\n",
       "      <td>3</td>\n",
       "      <td>49</td>\n",
       "    </tr>\n",
       "    <tr>\n",
       "      <th>1</th>\n",
       "      <td>daily general discussion advice thread decembe...</td>\n",
       "      <td>4</td>\n",
       "      <td>7</td>\n",
       "    </tr>\n",
       "    <tr>\n",
       "      <th>2</th>\n",
       "      <td>know much took first step investing tips im tr...</td>\n",
       "      <td>278</td>\n",
       "      <td>29</td>\n",
       "    </tr>\n",
       "    <tr>\n",
       "      <th>3</th>\n",
       "      <td>stocks watchlist hi exprop shop equity trader ...</td>\n",
       "      <td>17</td>\n",
       "      <td>0</td>\n",
       "    </tr>\n",
       "    <tr>\n",
       "      <th>4</th>\n",
       "      <td>short critique ray dalio ray dalio done absolu...</td>\n",
       "      <td>13</td>\n",
       "      <td>6</td>\n",
       "    </tr>\n",
       "    <tr>\n",
       "      <th>...</th>\n",
       "      <td>...</td>\n",
       "      <td>...</td>\n",
       "      <td>...</td>\n",
       "    </tr>\n",
       "    <tr>\n",
       "      <th>448</th>\n",
       "      <td>moronic monday september weekly questions thre...</td>\n",
       "      <td>10</td>\n",
       "      <td>23</td>\n",
       "    </tr>\n",
       "    <tr>\n",
       "      <th>451</th>\n",
       "      <td>moronic monday august weekly questions thread ...</td>\n",
       "      <td>5</td>\n",
       "      <td>29</td>\n",
       "    </tr>\n",
       "    <tr>\n",
       "      <th>457</th>\n",
       "      <td>moronic monday august weekly questions thread ...</td>\n",
       "      <td>7</td>\n",
       "      <td>18</td>\n",
       "    </tr>\n",
       "    <tr>\n",
       "      <th>458</th>\n",
       "      <td>moronic monday august weekly questions thread ...</td>\n",
       "      <td>7</td>\n",
       "      <td>33</td>\n",
       "    </tr>\n",
       "    <tr>\n",
       "      <th>464</th>\n",
       "      <td>moronic monday august weekly questions thread ...</td>\n",
       "      <td>1</td>\n",
       "      <td>42</td>\n",
       "    </tr>\n",
       "  </tbody>\n",
       "</table>\n",
       "<p>387 rows × 3 columns</p>\n",
       "</div>"
      ],
      "text/plain": [
       "                                         combined_text  upvotes  comments\n",
       "0    rate portfolio rstockmarket quarterly thread o...        3        49\n",
       "1    daily general discussion advice thread decembe...        4         7\n",
       "2    know much took first step investing tips im tr...      278        29\n",
       "3    stocks watchlist hi exprop shop equity trader ...       17         0\n",
       "4    short critique ray dalio ray dalio done absolu...       13         6\n",
       "..                                                 ...      ...       ...\n",
       "448  moronic monday september weekly questions thre...       10        23\n",
       "451  moronic monday august weekly questions thread ...        5        29\n",
       "457  moronic monday august weekly questions thread ...        7        18\n",
       "458  moronic monday august weekly questions thread ...        7        33\n",
       "464  moronic monday august weekly questions thread ...        1        42\n",
       "\n",
       "[387 rows x 3 columns]"
      ]
     },
     "execution_count": 39,
     "metadata": {},
     "output_type": "execute_result"
    }
   ],
   "source": [
    "data_new"
   ]
  },
  {
   "cell_type": "code",
   "execution_count": 40,
   "id": "a52670d3-4664-4861-be41-a96e4e5d68b5",
   "metadata": {},
   "outputs": [
    {
     "data": {
      "text/plain": [
       "combined_text    0\n",
       "upvotes          0\n",
       "comments         0\n",
       "dtype: int64"
      ]
     },
     "execution_count": 40,
     "metadata": {},
     "output_type": "execute_result"
    }
   ],
   "source": [
    "data_new.isnull().sum()"
   ]
  },
  {
   "cell_type": "code",
   "execution_count": 41,
   "id": "5f150488-fb23-4de1-bae3-80af84bcad73",
   "metadata": {},
   "outputs": [],
   "source": [
    "import seaborn as sns\n",
    "import matplotlib.pyplot as plt"
   ]
  },
  {
   "cell_type": "code",
   "execution_count": 45,
   "id": "41f246e2-b4a7-4b8d-95a5-626241563ad7",
   "metadata": {},
   "outputs": [
    {
     "name": "stderr",
     "output_type": "stream",
     "text": [
      "C:\\Users\\Anushka\\AppData\\Local\\Temp\\ipykernel_54120\\3557107578.py:1: UserWarning: \n",
      "\n",
      "`distplot` is a deprecated function and will be removed in seaborn v0.14.0.\n",
      "\n",
      "Please adapt your code to use either `displot` (a figure-level function with\n",
      "similar flexibility) or `histplot` (an axes-level function for histograms).\n",
      "\n",
      "For a guide to updating your code to use the new functions, please see\n",
      "https://gist.github.com/mwaskom/de44147ed2974457ad6372750bbe5751\n",
      "\n",
      "  sns.distplot(data_new['comments'],bins=5)\n"
     ]
    },
    {
     "data": {
      "text/plain": [
       "<Axes: xlabel='comments', ylabel='Density'>"
      ]
     },
     "execution_count": 45,
     "metadata": {},
     "output_type": "execute_result"
    },
    {
     "data": {
      "image/png": "[encoded data removed]",
      "text/plain": [
       "<Figure size 640x480 with 1 Axes>"
      ]
     },
     "metadata": {},
     "output_type": "display_data"
    }
   ],
   "source": [
    "sns.distplot(data_new['comments'],bins=5)"
   ]
  },
  {
   "cell_type": "code",
   "execution_count": 47,
   "id": "697a1ae6-f7bd-4f19-b7b5-837e43b0607e",
   "metadata": {},
   "outputs": [],
   "source": [
    "data_new.to_csv('final_stocks.csv',index=False)"
   ]
  },
  {
   "cell_type": "code",
   "execution_count": 48,
   "id": "2e346bc9-40b9-4c8f-81ee-29c524525652",
   "metadata": {},
   "outputs": [
    {
     "name": "stdout",
     "output_type": "stream",
     "text": [
      "[('im', 309), ('stocks', 249), ('stock', 227), ('like', 226), ('k', 211), ('would', 193), ('money', 174), ('market', 171), ('need', 152), ('years', 141)]\n"
     ]
    }
   ],
   "source": [
    "from collections import Counter\n",
    "df=pd.read_csv('final_stocks.csv')\n",
    "all_words = ' '.join(df['combined_text']).split()\n",
    "word_freq = Counter(all_words)\n",
    "print(word_freq.most_common(10))"
   ]
  },
  {
   "cell_type": "code",
   "execution_count": 54,
   "id": "e6d7b729-0bce-4ed8-b718-b7ec3393b540",
   "metadata": {},
   "outputs": [],
   "source": [
    "from textblob import TextBlob"
   ]
  },
  {
   "cell_type": "code",
   "execution_count": 53,
   "id": "b516d378-6cc9-4dd6-839d-e0665293999b",
   "metadata": {},
   "outputs": [
    {
     "name": "stdout",
     "output_type": "stream",
     "text": [
      "Collecting textblob\n",
      "  Downloading textblob-0.18.0.post0-py3-none-any.whl.metadata (4.5 kB)\n",
      "Requirement already satisfied: nltk>=3.8 in c:\\users\\anushka\\lib\\site-packages (from textblob) (3.8.1)\n",
      "Requirement already satisfied: click in c:\\users\\anushka\\lib\\site-packages (from nltk>=3.8->textblob) (8.1.7)\n",
      "Requirement already satisfied: joblib in c:\\users\\anushka\\lib\\site-packages (from nltk>=3.8->textblob) (1.3.2)\n",
      "Requirement already satisfied: regex>=2021.8.3 in c:\\users\\anushka\\lib\\site-packages (from nltk>=3.8->textblob) (2024.4.16)\n",
      "Requirement already satisfied: tqdm in c:\\users\\anushka\\lib\\site-packages (from nltk>=3.8->textblob) (4.66.2)\n",
      "Requirement already satisfied: colorama in c:\\users\\anushka\\lib\\site-packages (from click->nltk>=3.8->textblob) (0.4.6)\n",
      "Downloading textblob-0.18.0.post0-py3-none-any.whl (626 kB)\n",
      "   ---------------------------------------- 0.0/626.3 kB ? eta -:--:--\n",
      "   ---------------------------------------- 0.0/626.3 kB ? eta -:--:--\n",
      "    --------------------------------------- 10.2/626.3 kB ? eta -:--:--\n",
      "    --------------------------------------- 10.2/626.3 kB ? eta -:--:--\n",
      "    --------------------------------------- 10.2/626.3 kB ? eta -:--:--\n",
      "   - ------------------------------------- 30.7/626.3 kB 163.8 kB/s eta 0:00:04\n",
      "   --- ----------------------------------- 61.4/626.3 kB 252.2 kB/s eta 0:00:03\n",
      "   ------ ------------------------------- 112.6/626.3 kB 409.6 kB/s eta 0:00:02\n",
      "   --------- ---------------------------- 153.6/626.3 kB 484.3 kB/s eta 0:00:01\n",
      "   ---------------- --------------------- 266.2/626.3 kB 746.4 kB/s eta 0:00:01\n",
      "   ------------------------------ --------- 471.0/626.3 kB 1.2 MB/s eta 0:00:01\n",
      "   -------------------------------------- - 604.2/626.3 kB 1.4 MB/s eta 0:00:01\n",
      "   ---------------------------------------- 626.3/626.3 kB 1.3 MB/s eta 0:00:00\n",
      "Installing collected packages: textblob\n",
      "Successfully installed textblob-0.18.0.post0\n"
     ]
    },
    {
     "name": "stderr",
     "output_type": "stream",
     "text": [
      "DEPRECATION: Loading egg at c:\\users\\anushka\\lib\\site-packages\\vboxapi-1.0-py3.12.egg is deprecated. pip 24.3 will enforce this behaviour change. A possible replacement is to use pip for package installation.. Discussion can be found at https://github.com/pypa/pip/issues/12330\n",
      "\n",
      "[notice] A new release of pip is available: 23.3.1 -> 24.3.1\n",
      "[notice] To update, run: python.exe -m pip install --upgrade pip\n"
     ]
    }
   ],
   "source": [
    "!pip install textblob"
   ]
  },
  {
   "cell_type": "code",
   "execution_count": 62,
   "id": "62ff6d92-3ea9-46ae-a073-1253c7064228",
   "metadata": {},
   "outputs": [],
   "source": [
    "def sentiment_analyze(text):\n",
    "    res=TextBlob(text)\n",
    "    return res.sentiment.polarity\n",
    "def sentiment_analyze_sub(text):\n",
    "    res_new=TextBlob(text)\n",
    "    return res_new.sentiment.subjectivity"
   ]
  },
  {
   "cell_type": "code",
   "execution_count": 56,
   "id": "8101592f-4b83-4d08-9a67-8290dc812fab",
   "metadata": {},
   "outputs": [
    {
     "data": {
      "text/html": [
       "<div>\n",
       "<style scoped>\n",
       "    .dataframe tbody tr th:only-of-type {\n",
       "        vertical-align: middle;\n",
       "    }\n",
       "\n",
       "    .dataframe tbody tr th {\n",
       "        vertical-align: top;\n",
       "    }\n",
       "\n",
       "    .dataframe thead th {\n",
       "        text-align: right;\n",
       "    }\n",
       "</style>\n",
       "<table border=\"1\" class=\"dataframe\">\n",
       "  <thead>\n",
       "    <tr style=\"text-align: right;\">\n",
       "      <th></th>\n",
       "      <th>combined_text</th>\n",
       "      <th>upvotes</th>\n",
       "      <th>comments</th>\n",
       "    </tr>\n",
       "  </thead>\n",
       "  <tbody>\n",
       "    <tr>\n",
       "      <th>0</th>\n",
       "      <td>rate portfolio rstockmarket quarterly thread o...</td>\n",
       "      <td>3</td>\n",
       "      <td>49</td>\n",
       "    </tr>\n",
       "    <tr>\n",
       "      <th>1</th>\n",
       "      <td>daily general discussion advice thread decembe...</td>\n",
       "      <td>4</td>\n",
       "      <td>7</td>\n",
       "    </tr>\n",
       "    <tr>\n",
       "      <th>2</th>\n",
       "      <td>know much took first step investing tips im tr...</td>\n",
       "      <td>278</td>\n",
       "      <td>29</td>\n",
       "    </tr>\n",
       "    <tr>\n",
       "      <th>3</th>\n",
       "      <td>stocks watchlist hi exprop shop equity trader ...</td>\n",
       "      <td>17</td>\n",
       "      <td>0</td>\n",
       "    </tr>\n",
       "    <tr>\n",
       "      <th>4</th>\n",
       "      <td>short critique ray dalio ray dalio done absolu...</td>\n",
       "      <td>13</td>\n",
       "      <td>6</td>\n",
       "    </tr>\n",
       "  </tbody>\n",
       "</table>\n",
       "</div>"
      ],
      "text/plain": [
       "                                       combined_text  upvotes  comments\n",
       "0  rate portfolio rstockmarket quarterly thread o...        3        49\n",
       "1  daily general discussion advice thread decembe...        4         7\n",
       "2  know much took first step investing tips im tr...      278        29\n",
       "3  stocks watchlist hi exprop shop equity trader ...       17         0\n",
       "4  short critique ray dalio ray dalio done absolu...       13         6"
      ]
     },
     "execution_count": 56,
     "metadata": {},
     "output_type": "execute_result"
    }
   ],
   "source": [
    "df.head()"
   ]
  },
  {
   "cell_type": "code",
   "execution_count": 65,
   "id": "deecb2e8-aeb8-4a31-9eed-09578b898e87",
   "metadata": {},
   "outputs": [],
   "source": [
    "df['polarity_of_text']=df['combined_text'].apply(sentiment_analyze)\n",
    "df['subjectivity_of_text']=df['combined_text'].apply(sentiment_analyze_sub)"
   ]
  },
  {
   "cell_type": "code",
   "execution_count": 66,
   "id": "5a6ac61c-27b6-4898-9859-4cf892c8303a",
   "metadata": {},
   "outputs": [
    {
     "data": {
      "text/html": [
       "<div>\n",
       "<style scoped>\n",
       "    .dataframe tbody tr th:only-of-type {\n",
       "        vertical-align: middle;\n",
       "    }\n",
       "\n",
       "    .dataframe tbody tr th {\n",
       "        vertical-align: top;\n",
       "    }\n",
       "\n",
       "    .dataframe thead th {\n",
       "        text-align: right;\n",
       "    }\n",
       "</style>\n",
       "<table border=\"1\" class=\"dataframe\">\n",
       "  <thead>\n",
       "    <tr style=\"text-align: right;\">\n",
       "      <th></th>\n",
       "      <th>combined_text</th>\n",
       "      <th>upvotes</th>\n",
       "      <th>comments</th>\n",
       "      <th>sentiment_of_text</th>\n",
       "      <th>polarity_of_text</th>\n",
       "      <th>subjectivity_of_text</th>\n",
       "    </tr>\n",
       "  </thead>\n",
       "  <tbody>\n",
       "    <tr>\n",
       "      <th>0</th>\n",
       "      <td>rate portfolio rstockmarket quarterly thread o...</td>\n",
       "      <td>3</td>\n",
       "      <td>49</td>\n",
       "      <td>0.133333</td>\n",
       "      <td>0.000000</td>\n",
       "      <td>0.133333</td>\n",
       "    </tr>\n",
       "    <tr>\n",
       "      <th>1</th>\n",
       "      <td>daily general discussion advice thread decembe...</td>\n",
       "      <td>4</td>\n",
       "      <td>7</td>\n",
       "      <td>0.292333</td>\n",
       "      <td>0.132788</td>\n",
       "      <td>0.292333</td>\n",
       "    </tr>\n",
       "    <tr>\n",
       "      <th>2</th>\n",
       "      <td>know much took first step investing tips im tr...</td>\n",
       "      <td>278</td>\n",
       "      <td>29</td>\n",
       "      <td>0.355952</td>\n",
       "      <td>0.150397</td>\n",
       "      <td>0.355952</td>\n",
       "    </tr>\n",
       "    <tr>\n",
       "      <th>3</th>\n",
       "      <td>stocks watchlist hi exprop shop equity trader ...</td>\n",
       "      <td>17</td>\n",
       "      <td>0</td>\n",
       "      <td>0.380051</td>\n",
       "      <td>0.056029</td>\n",
       "      <td>0.380051</td>\n",
       "    </tr>\n",
       "    <tr>\n",
       "      <th>4</th>\n",
       "      <td>short critique ray dalio ray dalio done absolu...</td>\n",
       "      <td>13</td>\n",
       "      <td>6</td>\n",
       "      <td>0.473409</td>\n",
       "      <td>0.116742</td>\n",
       "      <td>0.473409</td>\n",
       "    </tr>\n",
       "  </tbody>\n",
       "</table>\n",
       "</div>"
      ],
      "text/plain": [
       "                                       combined_text  upvotes  comments  \\\n",
       "0  rate portfolio rstockmarket quarterly thread o...        3        49   \n",
       "1  daily general discussion advice thread decembe...        4         7   \n",
       "2  know much took first step investing tips im tr...      278        29   \n",
       "3  stocks watchlist hi exprop shop equity trader ...       17         0   \n",
       "4  short critique ray dalio ray dalio done absolu...       13         6   \n",
       "\n",
       "   sentiment_of_text  polarity_of_text  subjectivity_of_text  \n",
       "0           0.133333          0.000000              0.133333  \n",
       "1           0.292333          0.132788              0.292333  \n",
       "2           0.355952          0.150397              0.355952  \n",
       "3           0.380051          0.056029              0.380051  \n",
       "4           0.473409          0.116742              0.473409  "
      ]
     },
     "execution_count": 66,
     "metadata": {},
     "output_type": "execute_result"
    }
   ],
   "source": [
    "df.head()"
   ]
  },
  {
   "cell_type": "code",
   "execution_count": 68,
   "id": "8cdd08c7-17e4-4a9e-9bce-8c74b2724883",
   "metadata": {},
   "outputs": [],
   "source": [
    "df=df.drop(columns='sentiment_of_text')"
   ]
  },
  {
   "cell_type": "code",
   "execution_count": 69,
   "id": "7884eb82-9555-4098-943d-d4a7fb3d29bf",
   "metadata": {},
   "outputs": [
    {
     "data": {
      "text/html": [
       "<div>\n",
       "<style scoped>\n",
       "    .dataframe tbody tr th:only-of-type {\n",
       "        vertical-align: middle;\n",
       "    }\n",
       "\n",
       "    .dataframe tbody tr th {\n",
       "        vertical-align: top;\n",
       "    }\n",
       "\n",
       "    .dataframe thead th {\n",
       "        text-align: right;\n",
       "    }\n",
       "</style>\n",
       "<table border=\"1\" class=\"dataframe\">\n",
       "  <thead>\n",
       "    <tr style=\"text-align: right;\">\n",
       "      <th></th>\n",
       "      <th>combined_text</th>\n",
       "      <th>upvotes</th>\n",
       "      <th>comments</th>\n",
       "      <th>polarity_of_text</th>\n",
       "      <th>subjectivity_of_text</th>\n",
       "    </tr>\n",
       "  </thead>\n",
       "  <tbody>\n",
       "    <tr>\n",
       "      <th>0</th>\n",
       "      <td>rate portfolio rstockmarket quarterly thread o...</td>\n",
       "      <td>3</td>\n",
       "      <td>49</td>\n",
       "      <td>0.000000</td>\n",
       "      <td>0.133333</td>\n",
       "    </tr>\n",
       "    <tr>\n",
       "      <th>1</th>\n",
       "      <td>daily general discussion advice thread decembe...</td>\n",
       "      <td>4</td>\n",
       "      <td>7</td>\n",
       "      <td>0.132788</td>\n",
       "      <td>0.292333</td>\n",
       "    </tr>\n",
       "    <tr>\n",
       "      <th>2</th>\n",
       "      <td>know much took first step investing tips im tr...</td>\n",
       "      <td>278</td>\n",
       "      <td>29</td>\n",
       "      <td>0.150397</td>\n",
       "      <td>0.355952</td>\n",
       "    </tr>\n",
       "    <tr>\n",
       "      <th>3</th>\n",
       "      <td>stocks watchlist hi exprop shop equity trader ...</td>\n",
       "      <td>17</td>\n",
       "      <td>0</td>\n",
       "      <td>0.056029</td>\n",
       "      <td>0.380051</td>\n",
       "    </tr>\n",
       "    <tr>\n",
       "      <th>4</th>\n",
       "      <td>short critique ray dalio ray dalio done absolu...</td>\n",
       "      <td>13</td>\n",
       "      <td>6</td>\n",
       "      <td>0.116742</td>\n",
       "      <td>0.473409</td>\n",
       "    </tr>\n",
       "    <tr>\n",
       "      <th>...</th>\n",
       "      <td>...</td>\n",
       "      <td>...</td>\n",
       "      <td>...</td>\n",
       "      <td>...</td>\n",
       "      <td>...</td>\n",
       "    </tr>\n",
       "    <tr>\n",
       "      <th>382</th>\n",
       "      <td>moronic monday september weekly questions thre...</td>\n",
       "      <td>10</td>\n",
       "      <td>23</td>\n",
       "      <td>0.090000</td>\n",
       "      <td>0.340000</td>\n",
       "    </tr>\n",
       "    <tr>\n",
       "      <th>383</th>\n",
       "      <td>moronic monday august weekly questions thread ...</td>\n",
       "      <td>5</td>\n",
       "      <td>29</td>\n",
       "      <td>0.090000</td>\n",
       "      <td>0.340000</td>\n",
       "    </tr>\n",
       "    <tr>\n",
       "      <th>384</th>\n",
       "      <td>moronic monday august weekly questions thread ...</td>\n",
       "      <td>7</td>\n",
       "      <td>18</td>\n",
       "      <td>0.090000</td>\n",
       "      <td>0.340000</td>\n",
       "    </tr>\n",
       "    <tr>\n",
       "      <th>385</th>\n",
       "      <td>moronic monday august weekly questions thread ...</td>\n",
       "      <td>7</td>\n",
       "      <td>33</td>\n",
       "      <td>0.090000</td>\n",
       "      <td>0.340000</td>\n",
       "    </tr>\n",
       "    <tr>\n",
       "      <th>386</th>\n",
       "      <td>moronic monday august weekly questions thread ...</td>\n",
       "      <td>1</td>\n",
       "      <td>42</td>\n",
       "      <td>0.090000</td>\n",
       "      <td>0.340000</td>\n",
       "    </tr>\n",
       "  </tbody>\n",
       "</table>\n",
       "<p>387 rows × 5 columns</p>\n",
       "</div>"
      ],
      "text/plain": [
       "                                         combined_text  upvotes  comments  \\\n",
       "0    rate portfolio rstockmarket quarterly thread o...        3        49   \n",
       "1    daily general discussion advice thread decembe...        4         7   \n",
       "2    know much took first step investing tips im tr...      278        29   \n",
       "3    stocks watchlist hi exprop shop equity trader ...       17         0   \n",
       "4    short critique ray dalio ray dalio done absolu...       13         6   \n",
       "..                                                 ...      ...       ...   \n",
       "382  moronic monday september weekly questions thre...       10        23   \n",
       "383  moronic monday august weekly questions thread ...        5        29   \n",
       "384  moronic monday august weekly questions thread ...        7        18   \n",
       "385  moronic monday august weekly questions thread ...        7        33   \n",
       "386  moronic monday august weekly questions thread ...        1        42   \n",
       "\n",
       "     polarity_of_text  subjectivity_of_text  \n",
       "0            0.000000              0.133333  \n",
       "1            0.132788              0.292333  \n",
       "2            0.150397              0.355952  \n",
       "3            0.056029              0.380051  \n",
       "4            0.116742              0.473409  \n",
       "..                ...                   ...  \n",
       "382          0.090000              0.340000  \n",
       "383          0.090000              0.340000  \n",
       "384          0.090000              0.340000  \n",
       "385          0.090000              0.340000  \n",
       "386          0.090000              0.340000  \n",
       "\n",
       "[387 rows x 5 columns]"
      ]
     },
     "execution_count": 69,
     "metadata": {},
     "output_type": "execute_result"
    }
   ],
   "source": [
    "df"
   ]
  },
  {
   "cell_type": "code",
   "execution_count": 71,
   "id": "47028e39-d0c0-44b1-8b37-08684ece2436",
   "metadata": {},
   "outputs": [
    {
     "name": "stderr",
     "output_type": "stream",
     "text": [
      "C:\\Users\\Anushka\\AppData\\Local\\Temp\\ipykernel_54120\\557761830.py:1: UserWarning: \n",
      "\n",
      "`distplot` is a deprecated function and will be removed in seaborn v0.14.0.\n",
      "\n",
      "Please adapt your code to use either `displot` (a figure-level function with\n",
      "similar flexibility) or `histplot` (an axes-level function for histograms).\n",
      "\n",
      "For a guide to updating your code to use the new functions, please see\n",
      "https://gist.github.com/mwaskom/de44147ed2974457ad6372750bbe5751\n",
      "\n",
      "  sns.distplot(df['polarity_of_text'],bins=5)\n"
     ]
    },
    {
     "data": {
      "text/plain": [
       "<Axes: xlabel='polarity_of_text', ylabel='Density'>"
      ]
     },
     "execution_count": 71,
     "metadata": {},
     "output_type": "execute_result"
    },
    {
     "data": {
      "image/png": "[encoded data removed]",
      "text/plain": [
       "<Figure size 640x480 with 1 Axes>"
      ]
     },
     "metadata": {},
     "output_type": "display_data"
    }
   ],
   "source": [
    "sns.distplot(df['polarity_of_text'],bins=5)"
   ]
  },
  {
   "cell_type": "code",
   "execution_count": 72,
   "id": "65c74ec1-ea50-49d5-b3c6-81eb5a98230f",
   "metadata": {},
   "outputs": [
    {
     "name": "stderr",
     "output_type": "stream",
     "text": [
      "C:\\Users\\Anushka\\AppData\\Local\\Temp\\ipykernel_54120\\2003522394.py:1: UserWarning: \n",
      "\n",
      "`distplot` is a deprecated function and will be removed in seaborn v0.14.0.\n",
      "\n",
      "Please adapt your code to use either `displot` (a figure-level function with\n",
      "similar flexibility) or `histplot` (an axes-level function for histograms).\n",
      "\n",
      "For a guide to updating your code to use the new functions, please see\n",
      "https://gist.github.com/mwaskom/de44147ed2974457ad6372750bbe5751\n",
      "\n",
      "  sns.distplot(df['subjectivity_of_text'],bins=5)\n"
     ]
    },
    {
     "data": {
      "text/plain": [
       "<Axes: xlabel='subjectivity_of_text', ylabel='Density'>"
      ]
     },
     "execution_count": 72,
     "metadata": {},
     "output_type": "execute_result"
    },
    {
     "data": {
      "image/png": "[encoded data removed]",
      "text/plain": [
       "<Figure size 640x480 with 1 Axes>"
      ]
     },
     "metadata": {},
     "output_type": "display_data"
    }
   ],
   "source": [
    "sns.distplot(df['subjectivity_of_text'],bins=5)"
   ]
  },
  {
   "cell_type": "code",
   "execution_count": 73,
   "id": "11a4505d-1f00-4d9e-8019-26eb3dd676cf",
   "metadata": {},
   "outputs": [],
   "source": [
    "df.to_csv('reddit_stock_sentiment.csv',index=False)"
   ]
  },
  {
   "cell_type": "code",
   "execution_count": null,
   "id": "e6ce1cc9-f520-468b-abec-1d3371f8d29e",
   "metadata": {},
   "outputs": [],
   "source": []
  }
 ],
 "metadata": {
  "kernelspec": {
   "display_name": "Python 3 (ipykernel)",
   "language": "python",
   "name": "python3"
  },
  "language_info": {
   "codemirror_mode": {
    "name": "ipython",
    "version": 3
   },
   "file_extension": ".py",
   "mimetype": "text/x-python",
   "name": "python",
   "nbconvert_exporter": "python",
   "pygments_lexer": "ipython3",
   "version": "3.12.0"
  }
 },
 "nbformat": 4,
 "nbformat_minor": 5
}
