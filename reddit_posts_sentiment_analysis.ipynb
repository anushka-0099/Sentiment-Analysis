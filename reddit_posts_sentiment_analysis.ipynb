{
 "cells": [
  {
   "cell_type": "code",
   "execution_count": 1,
   "id": "ef38f912-880f-4360-92b3-742d0cbcc13d",
   "metadata": {},
   "outputs": [],
   "source": [
    "import pandas as pd"
   ]
  },
  {
   "cell_type": "code",
   "execution_count": 2,
   "id": "7ed849c3-9b2a-4831-82ea-261109c19c23",
   "metadata": {},
   "outputs": [],
   "source": [
    "df=pd.read_csv('stock_data_reddit.csv')"
   ]
  },
  {
   "cell_type": "code",
   "execution_count": 3,
   "id": "dbd3b553-1522-4dd4-9441-d2505cf88357",
   "metadata": {},
   "outputs": [
    {
     "data": {
      "text/plain": [
       "(465, 5)"
      ]
     },
     "execution_count": 3,
     "metadata": {},
     "output_type": "execute_result"
    }
   ],
   "source": [
    "df.shape"
   ]
  },
  {
   "cell_type": "code",
   "execution_count": 9,
   "id": "e3e5058f-dfab-4c46-b034-7a3b75e2422f",
   "metadata": {},
   "outputs": [
    {
     "data": {
      "text/html": [
       "<div>\n",
       "<style scoped>\n",
       "    .dataframe tbody tr th:only-of-type {\n",
       "        vertical-align: middle;\n",
       "    }\n",
       "\n",
       "    .dataframe tbody tr th {\n",
       "        vertical-align: top;\n",
       "    }\n",
       "\n",
       "    .dataframe thead th {\n",
       "        text-align: right;\n",
       "    }\n",
       "</style>\n",
       "<table border=\"1\" class=\"dataframe\">\n",
       "  <thead>\n",
       "    <tr style=\"text-align: right;\">\n",
       "      <th></th>\n",
       "      <th>title</th>\n",
       "      <th>body</th>\n",
       "      <th>upvotes</th>\n",
       "      <th>comments</th>\n",
       "      <th>created_at</th>\n",
       "    </tr>\n",
       "  </thead>\n",
       "  <tbody>\n",
       "    <tr>\n",
       "      <th>0</th>\n",
       "      <td>Rate My Portfolio - r/StockMarket Quarterly Th...</td>\n",
       "      <td>Please use this thread to discuss your portfol...</td>\n",
       "      <td>3</td>\n",
       "      <td>49</td>\n",
       "      <td>1.727773e+09</td>\n",
       "    </tr>\n",
       "    <tr>\n",
       "      <th>1</th>\n",
       "      <td>Daily General Discussion and Advice Thread - D...</td>\n",
       "      <td>Have a general question?  Want to offer some c...</td>\n",
       "      <td>4</td>\n",
       "      <td>7</td>\n",
       "      <td>1.733306e+09</td>\n",
       "    </tr>\n",
       "    <tr>\n",
       "      <th>2</th>\n",
       "      <td>I know it’s not much, but I took my first step...</td>\n",
       "      <td>Any tips? I’m not trying to put too much in un...</td>\n",
       "      <td>278</td>\n",
       "      <td>29</td>\n",
       "      <td>1.733336e+09</td>\n",
       "    </tr>\n",
       "    <tr>\n",
       "      <th>3</th>\n",
       "      <td>These are the stocks on my watchlist (12/4)</td>\n",
       "      <td>\\n\\nHi! I am an ex-prop shop equity trader.\\n\\...</td>\n",
       "      <td>17</td>\n",
       "      <td>0</td>\n",
       "      <td>1.733322e+09</td>\n",
       "    </tr>\n",
       "    <tr>\n",
       "      <th>4</th>\n",
       "      <td>A short critique of Ray Dalio</td>\n",
       "      <td>Ray Dalio has done an absolutely amazing job w...</td>\n",
       "      <td>13</td>\n",
       "      <td>6</td>\n",
       "      <td>1.733321e+09</td>\n",
       "    </tr>\n",
       "  </tbody>\n",
       "</table>\n",
       "</div>"
      ],
      "text/plain": [
       "                                               title  \\\n",
       "0  Rate My Portfolio - r/StockMarket Quarterly Th...   \n",
       "1  Daily General Discussion and Advice Thread - D...   \n",
       "2  I know it’s not much, but I took my first step...   \n",
       "3        These are the stocks on my watchlist (12/4)   \n",
       "4                      A short critique of Ray Dalio   \n",
       "\n",
       "                                                body  upvotes  comments  \\\n",
       "0  Please use this thread to discuss your portfol...        3        49   \n",
       "1  Have a general question?  Want to offer some c...        4         7   \n",
       "2  Any tips? I’m not trying to put too much in un...      278        29   \n",
       "3  \\n\\nHi! I am an ex-prop shop equity trader.\\n\\...       17         0   \n",
       "4  Ray Dalio has done an absolutely amazing job w...       13         6   \n",
       "\n",
       "     created_at  \n",
       "0  1.727773e+09  \n",
       "1  1.733306e+09  \n",
       "2  1.733336e+09  \n",
       "3  1.733322e+09  \n",
       "4  1.733321e+09  "
      ]
     },
     "execution_count": 9,
     "metadata": {},
     "output_type": "execute_result"
    }
   ],
   "source": [
    "df.head()"
   ]
  },
  {
   "cell_type": "code",
   "execution_count": 6,
   "id": "849fb3eb-bd73-4f60-831b-e6e646e7380d",
   "metadata": {},
   "outputs": [],
   "source": [
    "import nltk\n",
    "import re"
   ]
  },
  {
   "cell_type": "code",
   "execution_count": 5,
   "id": "7e6a4a26-dffe-4a37-bb68-612a47cff074",
   "metadata": {},
   "outputs": [],
   "source": [
    "from nltk.corpus import stopwords\n",
    "from nltk.tokenize import word_tokenize"
   ]
  },
  {
   "cell_type": "code",
   "execution_count": 7,
   "id": "3deb5f83-dcd5-410f-a0d3-cc4950b5a65d",
   "metadata": {},
   "outputs": [
    {
     "name": "stderr",
     "output_type": "stream",
     "text": [
      "[nltk_data] Downloading package punkt to\n",
      "[nltk_data]     C:\\Users\\Anushka\\AppData\\Roaming\\nltk_data...\n",
      "[nltk_data]   Package punkt is already up-to-date!\n"
     ]
    },
    {
     "data": {
      "text/plain": [
       "True"
      ]
     },
     "execution_count": 7,
     "metadata": {},
     "output_type": "execute_result"
    }
   ],
   "source": [
    "nltk.download('punkt')"
   ]
  },
  {
   "cell_type": "code",
   "execution_count": 8,
   "id": "29ca01d7-849a-4e39-a83e-eb2db3b52aae",
   "metadata": {},
   "outputs": [],
   "source": [
    "stop_words=set(stopwords.words('english'))"
   ]
  },
  {
   "cell_type": "code",
   "execution_count": 10,
   "id": "a8dd2adc-31bc-4910-8d50-f94ba3764768",
   "metadata": {},
   "outputs": [],
   "source": [
    "def pre_process(text):\n",
    "    text = re.sub(r'http\\S+', '', text)\n",
    "    text = re.sub(r'[^a-zA-Z\\s]', '', text)\n",
    "    tokens = word_tokenize(text.lower())\n",
    "    tokens = [word for word in tokens if word not in stop_words]\n",
    "    return ' '.join(tokens)\n",
    "df['rev_title']=df['title'].apply(pre_process)\n",
    "df['rev_body']=df['body'].fillna('').apply(pre_process)\n",
    "\n",
    "df.to_csv('reddit_stocks_preproccess.csv',index=False)"
   ]
  },
  {
   "cell_type": "code",
   "execution_count": null,
   "id": "2923ddda-72e5-4bd6-8a3c-3a15fce33efd",
   "metadata": {},
   "outputs": [],
   "source": []
  }
 ],
 "metadata": {
  "kernelspec": {
   "display_name": "Python 3 (ipykernel)",
   "language": "python",
   "name": "python3"
  },
  "language_info": {
   "codemirror_mode": {
    "name": "ipython",
    "version": 3
   },
   "file_extension": ".py",
   "mimetype": "text/x-python",
   "name": "python",
   "nbconvert_exporter": "python",
   "pygments_lexer": "ipython3",
   "version": "3.12.0"
  }
 },
 "nbformat": 4,
 "nbformat_minor": 5
}
